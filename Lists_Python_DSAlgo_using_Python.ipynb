{
 "cells": [
  {
   "cell_type": "markdown",
   "source": [
    "# DATA STRUCTURES USING PYTHON\n",
    "## LISTS IN PYTHON\n",
    "\n",
    "DEFINATION: LIST is a built in data structure which means that it comes with the standard python library. \n",
    "\n",
    "A LIST is a data structure that holds an ordered collection of items. \n",
    "\n",
    "The main difference between an Array and a LIST is that in a list the items or values stored do not need to be of the same data type. It can be mixed.\n",
    "\n",
    "A list can be created inside another list.\n",
    "\n",
    "### Creating a List:"
   ],
   "metadata": {}
  },
  {
   "cell_type": "code",
   "execution_count": 1,
   "source": [
    "### 1. Let's create a List\n",
    "\n",
    "List1 = [1,2,3,4,5]\n",
    "print(List1)\n",
    "\n",
    "List2 = [\"Apple\",\"Banana\",\"Mangoes\",\"Oranges\"]\n",
    "print(List2)\n",
    "\n",
    "List3 = [1,2,3,\"Mangoes\",\"Oranges\"]\n",
    "print(List3)\n",
    "\n",
    "List4 = [1,2,3,[\"Apples\", \"Banana\"],[1.2,2.6]]\n",
    "print(List4)"
   ],
   "outputs": [
    {
     "output_type": "stream",
     "name": "stdout",
     "text": [
      "[1, 2, 3, 4, 5]\n",
      "['Apple', 'Banana', 'Mangoes', 'Oranges']\n",
      "[1, 2, 3, 'Mangoes', 'Oranges']\n",
      "[1, 2, 3, ['Apples', 'Banana'], [1.2, 2.6]]\n"
     ]
    }
   ],
   "metadata": {}
  },
  {
   "cell_type": "markdown",
   "source": [
    "### Acessing/Traversing the List"
   ],
   "metadata": {}
  },
  {
   "cell_type": "code",
   "execution_count": 12,
   "source": [
    "shoppingList = [\"Milk\", \"Cheese\", \"Butter\"]\n",
    "print(shoppingList[1])\n",
    "\n",
    "## Acessing using IN operator\n",
    "print(\"Milk\" in shoppingList)\n",
    "print(\"Bread\" in shoppingList)\n",
    "\n",
    "print(shoppingList[-1])\n",
    "print(shoppingList[-2])\n",
    "\n",
    "\n",
    "## Traversing the List\n",
    "for i in shoppingList:\n",
    "    print(i)\n",
    "\n",
    "### Method 2 ## Range function always follows upto n - 1\n",
    "for i in range(len(shoppingList)):\n",
    "    shoppingList[i] = shoppingList[i]+\"+\"\n",
    "    print(shoppingList[i])"
   ],
   "outputs": [
    {
     "output_type": "stream",
     "name": "stdout",
     "text": [
      "Cheese\n",
      "True\n",
      "False\n",
      "Butter\n",
      "Cheese\n",
      "Milk\n",
      "Cheese\n",
      "Butter\n",
      "Milk+\n",
      "Cheese+\n",
      "Butter+\n"
     ]
    }
   ],
   "metadata": {}
  },
  {
   "cell_type": "markdown",
   "source": [
    "## Update/Insert - LIST"
   ],
   "metadata": {}
  },
  {
   "cell_type": "code",
   "execution_count": 14,
   "source": [
    "### UPDATE THE LIST\n",
    "myList = [1,2,3,4,5,6,7]\n",
    "print(myList)\n",
    "myList[2] = 33\n",
    "myList[3] = 44\n",
    "print(myList)\n",
    "\n",
    "## TIME COMPLEXITY IS O(1)\n",
    "## SPACE COMPLEXITY IS O(1)"
   ],
   "outputs": [
    {
     "output_type": "stream",
     "name": "stdout",
     "text": [
      "[1, 2, 3, 4, 5, 6, 7]\n",
      "[1, 2, 33, 44, 5, 6, 7]\n"
     ]
    }
   ],
   "metadata": {}
  },
  {
   "cell_type": "code",
   "execution_count": 18,
   "source": [
    "### INSERT THE ELEMENTS IN THE LIST CAN BE DONE IN THE FOLLOWING WAYS\n",
    "# 1. INSERTING AN ELEMENT AT THE BEGINNING OF THE LIST \n",
    "myList1 = [1,2,3,4,5]\n",
    "print(myList1)\n",
    "myList1.insert(0,11)\n",
    "print(myList1)\n",
    "myList1.insert(4,16)\n",
    "print(myList1)\n",
    "# 2. INSERTING AN ELEMENT TO THE ANY GIVEN PLACE IN THE LIST\n",
    "# 3. INSERTING AN ELEMENT TO THE END OF THE LIST\n",
    "myList1.append(35)\n",
    "print(myList1)\n",
    "# 4. INSERTING ANOTHER LIST TO THE LIST\n",
    "myList2 = [41,42,43,44,45]\n",
    "myList2.extend(myList1)\n",
    "print(myList2)"
   ],
   "outputs": [
    {
     "output_type": "stream",
     "name": "stdout",
     "text": [
      "[1, 2, 3, 4, 5]\n",
      "[11, 1, 2, 3, 4, 5]\n",
      "[11, 1, 2, 3, 16, 4, 5]\n",
      "[11, 1, 2, 3, 16, 4, 5, 35]\n",
      "[41, 42, 43, 44, 45, 11, 1, 2, 3, 16, 4, 5, 35]\n"
     ]
    }
   ],
   "metadata": {}
  },
  {
   "cell_type": "markdown",
   "source": [
    "## Slice / Delete from a List"
   ],
   "metadata": {}
  },
  {
   "cell_type": "code",
   "execution_count": 4,
   "source": [
    "### Slice an Element from the list\n",
    "myList3 = ['a','b','c','d','e','f']\n",
    "myList3[1:3] = [\"x\",\"y\"]\n",
    "print(myList3)"
   ],
   "outputs": [
    {
     "output_type": "stream",
     "name": "stdout",
     "text": [
      "['a', 'x', 'y', 'd', 'e', 'f']\n"
     ]
    }
   ],
   "metadata": {}
  },
  {
   "cell_type": "code",
   "execution_count": 9,
   "source": [
    "### Delete an Element from list:\n",
    "# 1. Pop() Method\n",
    "# 2. Delete() Method\n",
    "# 3. Remove() Method\n",
    "\n",
    "\n",
    "# Pop Method\n",
    "myList4 = ['a','b','c','d','e','f']\n",
    "myList4.pop(1)\n",
    "print(myList4)\n",
    "\n",
    "# Delete Method\n",
    "del myList4[1]\n",
    "print(myList4)\n",
    "\n",
    "# Remove Method\n",
    "myList4.remove(\"d\")\n",
    "print(myList4)"
   ],
   "outputs": [
    {
     "output_type": "stream",
     "name": "stdout",
     "text": [
      "['a', 'c', 'd', 'e', 'f']\n",
      "['a', 'd', 'e', 'f']\n",
      "['a', 'e', 'f']\n"
     ]
    }
   ],
   "metadata": {}
  },
  {
   "cell_type": "markdown",
   "source": [
    "## SEARCHING FOR AN ELEMENT IN THE LIST"
   ],
   "metadata": {}
  },
  {
   "cell_type": "code",
   "execution_count": 10,
   "source": [
    "myList5 = [10,20,30,40,50,60,70,80,90]\n",
    "if 20 in myList5:\n",
    "    print(myList5.index(20))\n",
    "else:\n",
    "    print(\"The value is not in the list\")"
   ],
   "outputs": [
    {
     "output_type": "stream",
     "name": "stdout",
     "text": [
      "1\n"
     ]
    }
   ],
   "metadata": {}
  },
  {
   "cell_type": "code",
   "execution_count": 11,
   "source": [
    "### Using Linear Search\n",
    "myList6 = [10,20,30,40,50,60,70,80,90]\n",
    "def searchinList(list,value):\n",
    "    for i in list:\n",
    "        if i == value:\n",
    "            return list.index(value)\n",
    "    return 'The value does not exist'\n",
    "\n",
    "print(searchinList(myList6,20))"
   ],
   "outputs": [
    {
     "output_type": "stream",
     "name": "stdout",
     "text": [
      "1\n"
     ]
    }
   ],
   "metadata": {}
  },
  {
   "cell_type": "markdown",
   "source": [
    "## LIST OPERATIONS AND FUNCTIONS"
   ],
   "metadata": {}
  },
  {
   "cell_type": "code",
   "execution_count": 12,
   "source": [
    "### \"+\" operator concatenates\n",
    "a = [1,2,3]\n",
    "b = [4,5,6]\n",
    "c = a+b\n",
    "print(c)"
   ],
   "outputs": [
    {
     "output_type": "stream",
     "name": "stdout",
     "text": [
      "[1, 2, 3, 4, 5, 6]\n"
     ]
    }
   ],
   "metadata": {}
  },
  {
   "cell_type": "code",
   "execution_count": 13,
   "source": [
    "### \"*\" operator \n",
    "a = [0]\n",
    "a = a*4\n",
    "print(a)"
   ],
   "outputs": [
    {
     "output_type": "stream",
     "name": "stdout",
     "text": [
      "[0, 0, 0, 0]\n"
     ]
    }
   ],
   "metadata": {}
  },
  {
   "cell_type": "code",
   "execution_count": 14,
   "source": [
    "### len() function of lists\n",
    "\n",
    "print(len(c))"
   ],
   "outputs": [
    {
     "output_type": "stream",
     "name": "stdout",
     "text": [
      "6\n"
     ]
    }
   ],
   "metadata": {}
  },
  {
   "cell_type": "code",
   "execution_count": 15,
   "source": [
    "### Max() returns the item with the highest value in the List \n",
    "\n",
    "print(max(c))"
   ],
   "outputs": [
    {
     "output_type": "stream",
     "name": "stdout",
     "text": [
      "6\n"
     ]
    }
   ],
   "metadata": {}
  },
  {
   "cell_type": "code",
   "execution_count": 16,
   "source": [
    "### Min() returns the item with the lowest item in the List \n",
    "print(min(c))"
   ],
   "outputs": [
    {
     "output_type": "stream",
     "name": "stdout",
     "text": [
      "1\n"
     ]
    }
   ],
   "metadata": {}
  },
  {
   "cell_type": "code",
   "execution_count": 17,
   "source": [
    "### Sum() returns sum of all items in the List\n",
    "print(sum(c))"
   ],
   "outputs": [
    {
     "output_type": "stream",
     "name": "stdout",
     "text": [
      "21\n"
     ]
    }
   ],
   "metadata": {}
  },
  {
   "cell_type": "code",
   "execution_count": 19,
   "source": [
    "print(sum(c)//len(c))"
   ],
   "outputs": [
    {
     "output_type": "stream",
     "name": "stdout",
     "text": [
      "3\n"
     ]
    }
   ],
   "metadata": {}
  },
  {
   "cell_type": "code",
   "execution_count": 27,
   "source": [
    "### Convert List to String\n",
    "a = \"spam-spam1-spam2\"\n",
    "delimiter = 'a'\n",
    "b = a.split(delimiter)\n",
    "print(b)"
   ],
   "outputs": [
    {
     "output_type": "stream",
     "name": "stdout",
     "text": [
      "['sp', 'm-sp', 'm1-sp', 'm2']\n"
     ]
    }
   ],
   "metadata": {}
  }
 ],
 "metadata": {
  "orig_nbformat": 4,
  "language_info": {
   "name": "python",
   "version": "3.8.8",
   "mimetype": "text/x-python",
   "codemirror_mode": {
    "name": "ipython",
    "version": 3
   },
   "pygments_lexer": "ipython3",
   "nbconvert_exporter": "python",
   "file_extension": ".py"
  },
  "kernelspec": {
   "name": "python3",
   "display_name": "Python 3.8.8 64-bit ('anaconda3': conda)"
  },
  "interpreter": {
   "hash": "6ce824ff5f4b21e1870c0a788fccd18759a4ebb0bc13b255fdea0cdb3e239b33"
  }
 },
 "nbformat": 4,
 "nbformat_minor": 2
}